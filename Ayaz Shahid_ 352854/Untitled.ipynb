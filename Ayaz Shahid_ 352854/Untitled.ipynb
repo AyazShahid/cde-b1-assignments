{
 "cells": [
  {
   "cell_type": "code",
   "execution_count": 2,
   "id": "a325ea24-6743-4c63-8980-96e8cc5ad88e",
   "metadata": {},
   "outputs": [
    {
     "name": "stdout",
     "output_type": "stream",
     "text": [
      "name:\tAyaz Shahid\n",
      "father name:\tShahid Mahmood\n",
      "DOB:\t23-oct-2002\n"
     ]
    }
   ],
   "source": [
    "\n",
    "# 1.Print Your Name with your Father name and Date of birth using suitable escape sequence charactor\n",
    "\n",
    "print(\"name:\\tAyaz Shahid\")\n",
    "print(\"father name:\\tShahid Mahmood\")\n",
    "print(\"DOB:\\t23-oct-2002\")"
   ]
  },
  {
   "cell_type": "code",
   "execution_count": 10,
   "id": "a22364c3-8182-4191-88b9-c8b94ca67a71",
   "metadata": {},
   "outputs": [
    {
     "name": "stdout",
     "output_type": "stream",
     "text": [
      "-------BIO------\n",
      "ayaz\n",
      "21\n",
      "Ayaz Shahid\n",
      "BBA\n"
     ]
    }
   ],
   "source": [
    "# Write your small bio using variables and print it using print function\n",
    "\n",
    "name = \"ayaz\"\n",
    "age = 21\n",
    "f_name = \"Ayaz Shahid\"\n",
    "edu = \"BBA\"\n",
    "print(\"-------BIO------\")\n",
    "print(name)\n",
    "print(age) \n",
    "print(f_name)\n",
    "print(edu)"
   ]
  },
  {
   "cell_type": "code",
   "execution_count": 15,
   "id": "994fa079-abbd-47b5-9e53-d61825024dc8",
   "metadata": {},
   "outputs": [
    {
     "name": "stdout",
     "output_type": "stream",
     "text": [
      "28\n",
      "-8\n",
      "0.5555555555555556\n",
      "10\n",
      "180\n"
     ]
    }
   ],
   "source": [
    "# 2.Write a program in which use all the operators we can use in Python\n",
    "\n",
    "a=10\n",
    "b=18\n",
    "\n",
    "c=a+b\n",
    "print(c)\n",
    "c=a-b\n",
    "print(c)\n",
    "c=a/b\n",
    "print(c)\n",
    "c=a%b\n",
    "print(c)\n",
    "c=a*b\n",
    "print(c)\n"
   ]
  },
  {
   "cell_type": "markdown",
   "id": "ce66075e-392d-4977-8b66-b4937023891f",
   "metadata": {},
   "source": [
    "#.Completes the following steps of small task:\n",
    "# Mention Marks of English , Islamiat and Maths out of 100 in 3 different variables\n",
    "Mention Variable of Total Marks and assign 300 to it\n",
    "Calculate Percentage\"\"\n"
   ]
  },
  {
   "cell_type": "code",
   "execution_count": 16,
   "id": "d7a18934-8855-4775-88ed-161fb1546682",
   "metadata": {},
   "outputs": [
    {
     "name": "stdout",
     "output_type": "stream",
     "text": [
      "85.0\n"
     ]
    }
   ],
   "source": [
    "english = 86\n",
    "islamiat = 79\n",
    "maths = 90\n",
    "\n",
    "percentage = (86+79+90)/300*100\n",
    "print(percentage)"
   ]
  },
  {
   "cell_type": "code",
   "execution_count": 20,
   "id": "4385d46a-aa95-4910-862a-c3f6d1848c5d",
   "metadata": {},
   "outputs": [
    {
     "name": "stdin",
     "output_type": "stream",
     "text": [
      "enter your salary: 60000\n",
      "enter your experience: 5\n"
     ]
    },
    {
     "name": "stdout",
     "output_type": "stream",
     "text": [
      "congragulation your salary after bonus is:  3000.0\n"
     ]
    }
   ],
   "source": [
    "# 4.A company decided to give bonus of 5% to employee if his/her year of service is more than 5 years. Ask user for their salary and year of service and print the net bonus amount.\n",
    "\n",
    "salary =int(input(\"enter your salary:\"))\n",
    "service_year =int(input(\"enter your experience:\"))\n",
    "if service_year >= 5:\n",
    "    bonus = salary*0.05\n",
    "    print(\"congragulation your salary after bonus is: \", bonus)\n",
    "else:\n",
    "    print(\"you did not get bonus\")\n"
   ]
  },
  {
   "cell_type": "code",
   "execution_count": 2,
   "id": "32ffa2cf-488b-430c-a327-52923adefe9d",
   "metadata": {},
   "outputs": [
    {
     "name": "stdin",
     "output_type": "stream",
     "text": [
      "enter your age: 16\n"
     ]
    },
    {
     "name": "stdout",
     "output_type": "stream",
     "text": [
      "you are not eligible\n"
     ]
    }
   ],
   "source": [
    "# 5.Write a program to check whether a person is eligible for voting or not. (accept age from user) if age is greater than 17 eligible otherwise not eligible\n",
    "\n",
    "age = int(input(\"enter your age:\"))\n",
    "if age >= 17:\n",
    "    print(\"you are eligible for voting\")\n",
    "else:\n",
    "    print(\"you are not eligible\")"
   ]
  },
  {
   "cell_type": "code",
   "execution_count": 5,
   "id": "930acac6-4cd5-4578-98ea-7a75fe537ff0",
   "metadata": {},
   "outputs": [
    {
     "name": "stdin",
     "output_type": "stream",
     "text": [
      "enter your number:  2\n"
     ]
    },
    {
     "name": "stdout",
     "output_type": "stream",
     "text": [
      "the number is even\n"
     ]
    }
   ],
   "source": [
    "# 6.Write a program to check whether a number entered by user is even or odd.\n",
    "\n",
    "number = int(input(\"enter your number: \"))\n",
    "if (number%2==0):\n",
    "    print(\"the number is even\")\n",
    "else:\n",
    "    print(\"the number is odd\")\n",
    "    "
   ]
  },
  {
   "cell_type": "code",
   "execution_count": 8,
   "id": "478061f4-c737-4637-b4e7-bc272d04838f",
   "metadata": {},
   "outputs": [
    {
     "name": "stdin",
     "output_type": "stream",
     "text": [
      "enter your number:  42\n"
     ]
    },
    {
     "name": "stdout",
     "output_type": "stream",
     "text": [
      "the number is divisible by 7\n"
     ]
    }
   ],
   "source": [
    "# 7.Write a program to check whether a number is divisible by 7 or not. Show Answer\n",
    "\n",
    "number = int(input(\"enter your number: \"))\n",
    "if number % 7==0:\n",
    "    print(\"the number is divisible by 7\")\n",
    "else:\n",
    "    print(\"the number is not divisible by 7\")"
   ]
  },
  {
   "cell_type": "code",
   "execution_count": 13,
   "id": "97fa46e1-6f60-4955-9be2-217db46210a2",
   "metadata": {},
   "outputs": [
    {
     "name": "stdin",
     "output_type": "stream",
     "text": [
      "enter your number:  25\n"
     ]
    },
    {
     "name": "stdout",
     "output_type": "stream",
     "text": [
      "hello\n"
     ]
    }
   ],
   "source": [
    "# 8.Write a program to display \"Hello\" if a number entered by user is a multiple of five , otherwise print \"Bye\".\n",
    "\n",
    "number = int(input(\"enter your number: \"))\n",
    "if number % 5==0:\n",
    "    print(\"hello\")\n",
    "else:\n",
    "    print(\"bye\")\n"
   ]
  },
  {
   "cell_type": "code",
   "execution_count": 16,
   "id": "cfeb589c-0c09-4e2c-b32c-595b69377af7",
   "metadata": {},
   "outputs": [
    {
     "name": "stdin",
     "output_type": "stream",
     "text": [
      "enter the length:  7\n",
      "enter the breadth:  9\n"
     ]
    },
    {
     "name": "stdout",
     "output_type": "stream",
     "text": [
      "it is a rectangle\n"
     ]
    }
   ],
   "source": [
    "# 9.Write a program to display the last digit of a number.\n",
    "# 10.Take values of length and breadth of a rectangle from user and print if it is square or rectangle.\n",
    "\n",
    "length = int(input(\"enter the length: \"))\n",
    "breadth = int(input(\"enter the breadth: \"))\n",
    "\n",
    "if length==breadth:\n",
    "    print(\"it is a square\")\n",
    "else:\n",
    "    print(\"it is a rectangle\")"
   ]
  },
  {
   "cell_type": "code",
   "execution_count": 17,
   "id": "742eca39-df76-4e13-8e74-ad4f251e2ff9",
   "metadata": {},
   "outputs": [
    {
     "name": "stdin",
     "output_type": "stream",
     "text": [
      "enter the first value:  22\n",
      "enter the second value:  23\n"
     ]
    },
    {
     "name": "stdout",
     "output_type": "stream",
     "text": [
      "the greatest value is:  23\n"
     ]
    }
   ],
   "source": [
    "# 11.Take two int values from user and print greatest among them.\n",
    "\n",
    "a = int(input(\"enter the first value: \"))\n",
    "b = int(input(\"enter the second value: \"))\n",
    "\n",
    "if a>b:\n",
    "    print(\"the greatest value is: \",a)\n",
    "elif b>a:\n",
    "    print(\"the greatest value is: \",b)\n",
    "else: \n",
    "    print(\"not valid\")\n",
    "    "
   ]
  },
  {
   "cell_type": "code",
   "execution_count": null,
   "id": "4ddef9a7-da15-4ca3-844d-e794976389e7",
   "metadata": {},
   "outputs": [],
   "source": []
  }
 ],
 "metadata": {
  "kernelspec": {
   "display_name": "Python 3 (ipykernel)",
   "language": "python",
   "name": "python3"
  },
  "language_info": {
   "codemirror_mode": {
    "name": "ipython",
    "version": 3
   },
   "file_extension": ".py",
   "mimetype": "text/x-python",
   "name": "python",
   "nbconvert_exporter": "python",
   "pygments_lexer": "ipython3",
   "version": "3.12.7"
  }
 },
 "nbformat": 4,
 "nbformat_minor": 5
}
