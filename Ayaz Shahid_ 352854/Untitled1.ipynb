{
 "cells": [
  {
   "cell_type": "code",
   "execution_count": 10,
   "id": "7f43e815-a009-42bb-814b-4c238dc06dae",
   "metadata": {},
   "outputs": [
    {
     "name": "stdout",
     "output_type": "stream",
     "text": [
      "name:  ayaz shahid\n",
      "father name:  shahid mahmood\n",
      "date of birth:  23 oct 2002\n"
     ]
    }
   ],
   "source": [
    "# 1.Print Your Name with your Father name and Date of birth using suitable escape sequence charactor\n",
    "\n",
    "name = \"ayaz shahid\"\n",
    "f_name = \"shahid mahmood\"\n",
    "birth_date = \"23 oct 2002\"\n",
    "print(\"name: \", name)\n",
    "print(\"father name: \", f_name)\n",
    "print(\"date of birth: \", birth_date)"
   ]
  },
  {
   "cell_type": "code",
   "execution_count": 14,
   "id": "de781e50-5e33-41a7-b0ef-7d4dfc1abafc",
   "metadata": {},
   "outputs": [
    {
     "name": "stdin",
     "output_type": "stream",
     "text": [
      "what is your salary: 70000\n",
      "what is your year of service: 3\n"
     ]
    },
    {
     "name": "stdout",
     "output_type": "stream",
     "text": [
      "not eligible for bonus\n"
     ]
    }
   ],
   "source": [
    " 4. # A company decided to give bonus of 5% to employee if his/her year of service is more than 5 years. Ask user for their salary and year of service and print the net bonus amount.\n",
    "\n",
    "salary = int(input(\"what is your salary:\"))\n",
    "service_year = int(input(\"what is your year of service:\"))\n",
    "\n",
    "if service_year > 5:\n",
    "    bonus = salary*0.05\n",
    "    print(\"congragulation you got the bonus: \", bonus)\n",
    "else:\n",
    "    print(\"not eligible for bonus\")"
   ]
  },
  {
   "cell_type": "code",
   "execution_count": 16,
   "id": "bb8db4ac-ef4b-4e69-9531-6bb1f5199561",
   "metadata": {},
   "outputs": [
    {
     "name": "stdin",
     "output_type": "stream",
     "text": [
      "enter number: 7\n"
     ]
    },
    {
     "name": "stdout",
     "output_type": "stream",
     "text": [
      "the number is odd\n"
     ]
    }
   ],
   "source": [
    "# 6.Write a program to check whether a number entered by user is even or odd.\n",
    "\n",
    "number = int(input(\"enter number:\"))\n",
    "if number %2 == 0:\n",
    "    print(\"the number is even\")\n",
    "else:\n",
    "    print(\"the number is odd\")"
   ]
  },
  {
   "cell_type": "code",
   "execution_count": 18,
   "id": "e1b83848-450a-4a53-a7e7-c2539c2d0ea5",
   "metadata": {},
   "outputs": [
    {
     "name": "stdin",
     "output_type": "stream",
     "text": [
      "enter first number: 99\n",
      "enter second number: 1092\n"
     ]
    },
    {
     "name": "stdout",
     "output_type": "stream",
     "text": [
      "the greater number is:  1092\n"
     ]
    }
   ],
   "source": [
    "# 11.Take two int values from user and print greatest among them.\n",
    "\n",
    "a = int(input(\"enter first number:\"))\n",
    "b = int(input(\"enter second number:\"))\n",
    "\n",
    "if a>b:\n",
    "    print(\"the greater number is : \", a)\n",
    "elif b>a:\n",
    "    print(\"the greater number is: \", b)\n",
    "else: \n",
    "    print(\"not valid\")"
   ]
  },
  {
   "cell_type": "code",
   "execution_count": null,
   "id": "31b75a2e-bdda-42d1-b52c-eb591c77e881",
   "metadata": {},
   "outputs": [],
   "source": []
  }
 ],
 "metadata": {
  "kernelspec": {
   "display_name": "Python 3 (ipykernel)",
   "language": "python",
   "name": "python3"
  },
  "language_info": {
   "codemirror_mode": {
    "name": "ipython",
    "version": 3
   },
   "file_extension": ".py",
   "mimetype": "text/x-python",
   "name": "python",
   "nbconvert_exporter": "python",
   "pygments_lexer": "ipython3",
   "version": "3.12.7"
  }
 },
 "nbformat": 4,
 "nbformat_minor": 5
}
