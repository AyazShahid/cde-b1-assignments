{
 "cells": [
  {
   "cell_type": "markdown",
   "id": "6a457003-1156-4373-9d3b-4d0b53203682",
   "metadata": {},
   "source": [
    "# Question No 01\n",
    "Use a for loop to count the number of occurrences of the word in the list and return all indices where the word occurs.\n",
    "\n",
    "# Exmple:\n",
    "\n",
    "Input: ['apple', 'banana', 'apple', 'cherry', 'apple'], Search: 'apple'\n",
    "Output: 'apple' found 3 times at indices: 0, 2, 4\n",
    "\n"
   ]
  },
  {
   "cell_type": "code",
   "execution_count": 4,
   "id": "66ce63e5-3e7a-4c44-ba87-26ff75661d41",
   "metadata": {},
   "outputs": [
    {
     "name": "stdout",
     "output_type": "stream",
     "text": [
      "apple found 3 times at indices :  [0, 2, 4]\n"
     ]
    }
   ],
   "source": [
    "fruits = ['apple', 'banana', 'apple', 'cherry', 'apple']\n",
    "count = 0\n",
    "indices = []\n",
    "for item in range(len(fruits)):\n",
    "    if fruits[item] == 'apple':\n",
    "        count += 1\n",
    "        indices.append(item)\n",
    "print(\"apple found\",count,\"times at indices : \",indices)"
   ]
  },
  {
   "cell_type": "markdown",
   "id": "549253d5-4437-43ca-9eb2-cf87de17043b",
   "metadata": {},
   "source": [
    " # Question No 02\n",
    "Create a program to find all unique pairs of numbers in a list that add up to a target sum.\n",
    "\n",
    "Use a single list and a for loop (nested if necessary) to iterate through and find pairs without duplicates. Avoid repeating pairs like [3, 5] and [5, 3].\n",
    "\n",
    "# Example:\n",
    "\n",
    "Input list: [2, 4, 3, 5, 7, 8, 1]\n",
    "Target sum: 9\n",
    "Output: [(2, 7), (4, 5), (1, 8)]"
   ]
  },
  {
   "cell_type": "code",
   "execution_count": 9,
   "id": "0450ec8d-2512-4ac2-b43b-69b44fbf4ced",
   "metadata": {},
   "outputs": [
    {
     "name": "stdout",
     "output_type": "stream",
     "text": [
      "{(4, 5), (2, 7), (8, 1)}\n"
     ]
    }
   ],
   "source": [
    "my_list = [2, 4, 3, 5, 7, 8, 1]\n",
    "\n",
    "unique_pairs = set()\n",
    "\n",
    "for i in my_list:\n",
    "    for j in my_list:\n",
    "        if i + j == 9 and (j, i) not in unique_pairs:\n",
    "            unique_pairs.add((i, j))\n",
    "print(unique_pairs)"
   ]
  },
  {
   "cell_type": "markdown",
   "id": "304dad5a-797b-403a-8031-6b859341c822",
   "metadata": {},
   "source": [
    " # Question No 03\n",
    "Write a program to calculate the cumulative product of elements in a list.\n",
    "\n",
    "Use a single list and update it in place to store the cumulative product at each index. Use only a for loop.\n",
    "\n",
    " # Example:\n",
    "\n",
    "Input: [2, 3, 4, 5]\n",
    "Output: [2, 6, 24, 120]"
   ]
  },
  {
   "cell_type": "code",
   "execution_count": 11,
   "id": "e907a6cd-5f20-4c6c-923c-b9bdaad83172",
   "metadata": {},
   "outputs": [
    {
     "name": "stdout",
     "output_type": "stream",
     "text": [
      "[2, 6, 24, 120]\n"
     ]
    }
   ],
   "source": [
    "listt = [2, 3 , 4, 5]\n",
    "\n",
    "new_list = []\n",
    "product = 1\n",
    "for i in listt:\n",
    "    product = product * i\n",
    "    new_list.append(product)\n",
    "print(new_list)"
   ]
  },
  {
   "cell_type": "markdown",
   "id": "af527c30-2a0f-4d62-bf9b-80d65ea2b625",
   "metadata": {},
   "source": [
    "# Question No 04\n",
    "Write a program to reshape a 1D list into a 2D grid.\n",
    "\n",
    "Accept a list of numbers and the number of rows as input. Use for loops to split the list into sublists, each representing a row. If the list cannot be evenly divided into rows, pad it with None.\n",
    "\n",
    "# Example:\n",
    "Input: [1, 2, 3, 4, 5, 6, 7], Rows: 3\n",
    "\n",
    "Output: [[1, 2, 3], [4, 5, 6], [7, None, None]]"
   ]
  },
  {
   "cell_type": "code",
   "execution_count": 17,
   "id": "9f7e89b7-83ef-4d37-bc80-93f336e9a5e0",
   "metadata": {},
   "outputs": [
    {
     "name": "stdout",
     "output_type": "stream",
     "text": [
      "reshaped grid:  [[1, 2, 3], [4, 5, 6], [7, None, None]]\n"
     ]
    }
   ],
   "source": [
    "numbers = [1, 2, 3, 4, 5, 6, 7]\n",
    "rows = 3\n",
    "columns = (len(numbers) + rows - 1) // rows\n",
    "grid = []\n",
    "for i in range(rows):\n",
    "    row = numbers[i * columns:(i + 1) * columns]\n",
    "    while len(row) < columns:\n",
    "        row.append(None)\n",
    "    grid.append(row)\n",
    "print(\"reshaped grid: \", grid)"
   ]
  },
  {
   "cell_type": "markdown",
   "id": "a00e910a-c2e2-4e10-9323-17945c1087b0",
   "metadata": {},
   "source": [
    "# Question No 05\n",
    "Write a program to sort a list of numbers into two separate lists:\n",
    "\n",
    "One list for all odd numbers (in ascending order). One list for all even numbers (in descending order). Use for loops for the entire process.\n",
    "\n",
    "# Example:\n",
    "\n",
    "Input: [5, 8, 3, 10, 2, 7, 1, 6]\n",
    "Output:\n",
    "Odd: [1, 3, 5, 7]\n",
    "Even: [10, 8, 6, 2]"
   ]
  },
  {
   "cell_type": "code",
   "execution_count": 21,
   "id": "1120a363-38bb-41a7-b375-b4d80063dbe2",
   "metadata": {},
   "outputs": [
    {
     "name": "stdout",
     "output_type": "stream",
     "text": [
      "odd:  [1, 3, 5, 7]\n",
      "even:  [10, 8, 6, 2]\n"
     ]
    }
   ],
   "source": [
    "numbers = [5, 8, 3, 10, 2, 7, 1, 6]\n",
    "odd_numbers = []\n",
    "even_numbers = []\n",
    "for num in numbers:\n",
    "    if num > 0 and (num % 2 == 0) and num != 0:\n",
    "        even_numbers.append(num)\n",
    "    elif num > 0 and (num % 2 != 0) and num != 0:\n",
    "        odd_numbers.append(num)\n",
    "\n",
    "odd_numbers.sort()\n",
    "even_numbers.sort(reverse=True)\n",
    "\n",
    "print(\"odd: \", odd_numbers)\n",
    "print(\"even: \", even_numbers)\n",
    "\n"
   ]
  },
  {
   "cell_type": "markdown",
   "id": "c1c269dd-b16c-4466-b5fb-337c712be8f0",
   "metadata": {},
   "source": [
    "# functions assignmnet"
   ]
  },
  {
   "cell_type": "markdown",
   "id": "f7570811-f171-4f45-8679-4074d8ae27dc",
   "metadata": {},
   "source": [
    "# Write a function called create_word_count that takes a list of strings and returns a dictionary where:\n",
    "\n",
    "Keys are unique words from the list. Values are the count of occurrences of each word.\n",
    "\n",
    "# Exmple:\n",
    "words = ['apple', 'banana', 'apple', 'cherry', 'banana', 'apple'] result = create_word_count(words) print(result) # {'apple': 3, 'banana': 2, 'cherry': 1}"
   ]
  },
  {
   "cell_type": "code",
   "execution_count": 23,
   "id": "5844cd4d-37a4-4224-a900-a5afdca7d626",
   "metadata": {},
   "outputs": [
    {
     "name": "stdout",
     "output_type": "stream",
     "text": [
      "{'apple': 3, 'banana': 2, 'cherry': 1}\n"
     ]
    }
   ],
   "source": [
    "def create_word_count(words):\n",
    "    word_count = {}\n",
    "\n",
    "    for word in words:\n",
    "        if word in word_count:\n",
    "            word_count[word] += 1\n",
    "        else:\n",
    "            word_count[word] = 1\n",
    "            \n",
    "    return word_count\n",
    "\n",
    "words = ['apple', 'banana', 'apple', 'cherry', 'banana', 'apple']\n",
    "result = create_word_count(words)\n",
    "print(result)"
   ]
  },
  {
   "cell_type": "markdown",
   "id": "e5a1b7a1-d779-4c97-8ebd-c6ecf52bdb2b",
   "metadata": {},
   "source": [
    "# Question No 02\n",
    "Write a function called sort_by_key that takes a list of dictionaries and a key to sort by.\n",
    "\n",
    "The function should return a new list sorted by the given key in ascending order. If the key doesn’t exist in a dictionary, ignore that dictionary.\n",
    "\n",
    "# Exmple:\n",
    "\n",
    "#data = [{'name': 'Alice', 'age': 25}, {'name': 'Bob', 'age': 22}, {'name': 'Charlie', 'age': 30}] sorted_data = sort_by_key(data, 'age') print(sorted_data)\n",
    "\n"
   ]
  },
  {
   "cell_type": "code",
   "execution_count": 2,
   "id": "272a22c0-f3bf-434d-b365-a43870da525f",
   "metadata": {},
   "outputs": [
    {
     "name": "stdout",
     "output_type": "stream",
     "text": [
      "[{'name': 'Bob', 'age': 22}, {'name': 'Alice', 'age': 25}, {'name': 'Charlie', 'age': 30}]\n"
     ]
    }
   ],
   "source": [
    "def sort_by_key(data, key):\n",
    "    return sorted([d for d in data if key in d], key=lambda x: x[key])\n",
    "\n",
    "data = [{'name': 'Alice', 'age': 25}, {'name': 'Bob', 'age': 22}, {'name': 'Charlie', 'age': 30}]\n",
    "sorted_data = sort_by_key(data, 'age')\n",
    "print(sorted_data)"
   ]
  },
  {
   "cell_type": "markdown",
   "id": "4b98c196-7217-4af7-9b2d-c6129702b013",
   "metadata": {},
   "source": [
    "# Question No 03\n",
    "Write a function called filter_dict that takes a dictionary and a value threshold as arguments.\n",
    "\n",
    "The function should return a new dictionary containing only the key-value pairs where the value is greater than the threshold.\n",
    "\n",
    "# Exmple:\n",
    "\n",
    "scores = {'Alice': 85, 'Bob': 90, 'Charlie': 78, 'David': 92} filtered_scores = filter_dict(scores, 80) print(filtered_scores) # {'Alice': 85, 'Bob': 90, 'David': 92}"
   ]
  },
  {
   "cell_type": "code",
   "execution_count": 3,
   "id": "3f3d627f-8e4a-47e8-b222-fcfa5a25c8da",
   "metadata": {},
   "outputs": [
    {
     "name": "stdout",
     "output_type": "stream",
     "text": [
      "{'Alice': 85, 'Bob': 90, 'David': 92}\n"
     ]
    }
   ],
   "source": [
    "def filter_dict(data, threshold):\n",
    "    return {key: value for key, value in data.items() if value > threshold}\n",
    "\n",
    "scores = {'Alice': 85, 'Bob': 90, 'Charlie': 78, 'David': 92}\n",
    "filtered_scores = filter_dict(scores, 80)\n",
    "print(filtered_scores) "
   ]
  },
  {
   "cell_type": "markdown",
   "id": "24621da7-5edb-47f6-8b8f-f7c16f5bf777",
   "metadata": {},
   "source": [
    "# Question No 04\n",
    "Write a function called find_common_keys that takes two dictionaries and returns a list of keys that are common to both.\n",
    "\n",
    "# Exmple:\n",
    "\n",
    "dict1 = {'a': 1, 'b': 2, 'c': 3} dict2 = {'b': 4, 'c': 5, 'd': 6} common_keys = find_common_keys(dict1, dict2) print(common_keys) # ['b', 'c']"
   ]
  },
  {
   "cell_type": "code",
   "execution_count": 4,
   "id": "75352339-05f6-483e-b52d-fe61999ce623",
   "metadata": {},
   "outputs": [
    {
     "name": "stdout",
     "output_type": "stream",
     "text": [
      "['c', 'b']\n"
     ]
    }
   ],
   "source": [
    "def find_common_keys(dict1, dict2):\n",
    "    return list(dict1.keys() & dict2.keys())\n",
    "\n",
    "dict1 = {'a': 1, 'b': 2, 'c': 3}\n",
    "dict2 = {'b': 4, 'c': 5, 'd': 6}\n",
    "common_keys = find_common_keys(dict1, dict2)\n",
    "print(common_keys) "
   ]
  },
  {
   "cell_type": "markdown",
   "id": "f910d7cf-a735-4930-899b-383dab54240e",
   "metadata": {},
   "source": [
    "# Question No 5\n",
    "Write a function called update_grades that takes a list of dictionaries (representing students with their grades) and updates the grade of a student if their name matches the given name.\n",
    "\n",
    "# Exmple:\n",
    "\n",
    "students = [{'name': 'Alice', 'grade': 85}, {'name': 'Bob', 'grade': 90}] updated_students = update_grades(students, 'Bob', 95) print(updated_students)\n",
    "\n",
    "[{'name': 'Alice', 'grade': 85}, {'name': 'Bob', 'grade': 95}]"
   ]
  },
  {
   "cell_type": "code",
   "execution_count": 6,
   "id": "db5e40b8-3e4a-4972-abe9-ec91fc7acc4d",
   "metadata": {},
   "outputs": [
    {
     "name": "stdout",
     "output_type": "stream",
     "text": [
      "[{'name': 'Alice', 'grade': 85}, {'name': 'Bob', 'grade': 95}]\n"
     ]
    }
   ],
   "source": [
    "def update_grades(students, name, new_grade):\n",
    "\n",
    "    for student in students:\n",
    "        if student.get('name') == name:\n",
    "            student['grade'] = new_grade\n",
    "    return students\n",
    "\n",
    "students = [{'name': 'Alice', 'grade': 85}, {'name': 'Bob', 'grade': 90}]\n",
    "updated_students = update_grades(students, 'Bob', 95)\n",
    "print(updated_students)"
   ]
  },
  {
   "cell_type": "markdown",
   "id": "fbf4ef80-d4ae-4649-9f6c-eb294580921c",
   "metadata": {},
   "source": [
    "# Question No 6\n",
    "Write a function called merge_lists_to_dict that takes two lists of equal length:\n",
    "\n",
    "The first list contains keys. The second list contains values. The function should return a dictionary created by merging these lists.\n",
    "\n",
    "# Exmple: keys = ['name', 'age', 'city'] values = ['Alice', 25, 'New York'] result = merge_lists_to_dict(keys, values) print(result) # {'name': 'Alice', 'age': 25, 'city': 'New York'}"
   ]
  },
  {
   "cell_type": "code",
   "execution_count": 7,
   "id": "735b1487-9c4e-41a9-9a73-44c04fac9cc5",
   "metadata": {},
   "outputs": [
    {
     "name": "stdout",
     "output_type": "stream",
     "text": [
      "{'name': 'Alice', 'age': 25, 'city': 'New York'}\n"
     ]
    }
   ],
   "source": [
    "def merge_lists_to_dict(keys, values):\n",
    "\n",
    "    return dict(zip(keys, values))\n",
    "\n",
    "keys = ['name', 'age', 'city']\n",
    "values = ['Alice', 25, 'New York']\n",
    "result = merge_lists_to_dict(keys, values)\n",
    "print(result) "
   ]
  },
  {
   "cell_type": "code",
   "execution_count": null,
   "id": "ea1ab7f1-9c70-438a-b1aa-387c484af3ba",
   "metadata": {},
   "outputs": [],
   "source": []
  }
 ],
 "metadata": {
  "kernelspec": {
   "display_name": "Python 3 (ipykernel)",
   "language": "python",
   "name": "python3"
  },
  "language_info": {
   "codemirror_mode": {
    "name": "ipython",
    "version": 3
   },
   "file_extension": ".py",
   "mimetype": "text/x-python",
   "name": "python",
   "nbconvert_exporter": "python",
   "pygments_lexer": "ipython3",
   "version": "3.12.7"
  }
 },
 "nbformat": 4,
 "nbformat_minor": 5
}
